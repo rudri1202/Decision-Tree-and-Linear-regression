{
  "cells": [
    {
      "cell_type": "code",
      "execution_count": 245,
      "metadata": {
        "id": "F7hfpSeVTpsk"
      },
      "outputs": [],
      "source": [
        "import warnings\n",
        "import numpy as np\n",
        "import pandas as pd\n",
        "import matplotlib.pyplot as plt\n",
        "import seaborn as sns\n",
        "from statistics import mean\n",
        "from statistics import stdev\n",
        "import math\n",
        "from sklearn.metrics import accuracy_score, confusion_matrix, classification_report\n",
        "from sklearn import datasets, linear_model, metrics\n",
        "from sklearn.model_selection import cross_val_score as cross_val_score_inbuilt\n",
        "from sklearn.model_selection import train_test_split\n",
        "\n",
        "\n",
        "sns.set_style(\"darkgrid\")\n",
        "warnings.filterwarnings('ignore')"
      ]
    },
    {
      "cell_type": "code",
      "execution_count": 246,
      "metadata": {
        "colab": {
          "base_uri": "https://localhost:8080/",
          "height": 73
        },
        "id": "CmSOM9aGep_f",
        "outputId": "ab76d9a3-8e10-42dd-eacc-01dc8898e916"
      },
      "outputs": [
        {
          "output_type": "display_data",
          "data": {
            "text/plain": [
              "<IPython.core.display.HTML object>"
            ],
            "text/html": [
              "\n",
              "     <input type=\"file\" id=\"files-e8f2cb2a-9732-47ce-9e86-55054af98af4\" name=\"files[]\" multiple disabled\n",
              "        style=\"border:none\" />\n",
              "     <output id=\"result-e8f2cb2a-9732-47ce-9e86-55054af98af4\">\n",
              "      Upload widget is only available when the cell has been executed in the\n",
              "      current browser session. Please rerun this cell to enable.\n",
              "      </output>\n",
              "      <script>// Copyright 2017 Google LLC\n",
              "//\n",
              "// Licensed under the Apache License, Version 2.0 (the \"License\");\n",
              "// you may not use this file except in compliance with the License.\n",
              "// You may obtain a copy of the License at\n",
              "//\n",
              "//      http://www.apache.org/licenses/LICENSE-2.0\n",
              "//\n",
              "// Unless required by applicable law or agreed to in writing, software\n",
              "// distributed under the License is distributed on an \"AS IS\" BASIS,\n",
              "// WITHOUT WARRANTIES OR CONDITIONS OF ANY KIND, either express or implied.\n",
              "// See the License for the specific language governing permissions and\n",
              "// limitations under the License.\n",
              "\n",
              "/**\n",
              " * @fileoverview Helpers for google.colab Python module.\n",
              " */\n",
              "(function(scope) {\n",
              "function span(text, styleAttributes = {}) {\n",
              "  const element = document.createElement('span');\n",
              "  element.textContent = text;\n",
              "  for (const key of Object.keys(styleAttributes)) {\n",
              "    element.style[key] = styleAttributes[key];\n",
              "  }\n",
              "  return element;\n",
              "}\n",
              "\n",
              "// Max number of bytes which will be uploaded at a time.\n",
              "const MAX_PAYLOAD_SIZE = 100 * 1024;\n",
              "\n",
              "function _uploadFiles(inputId, outputId) {\n",
              "  const steps = uploadFilesStep(inputId, outputId);\n",
              "  const outputElement = document.getElementById(outputId);\n",
              "  // Cache steps on the outputElement to make it available for the next call\n",
              "  // to uploadFilesContinue from Python.\n",
              "  outputElement.steps = steps;\n",
              "\n",
              "  return _uploadFilesContinue(outputId);\n",
              "}\n",
              "\n",
              "// This is roughly an async generator (not supported in the browser yet),\n",
              "// where there are multiple asynchronous steps and the Python side is going\n",
              "// to poll for completion of each step.\n",
              "// This uses a Promise to block the python side on completion of each step,\n",
              "// then passes the result of the previous step as the input to the next step.\n",
              "function _uploadFilesContinue(outputId) {\n",
              "  const outputElement = document.getElementById(outputId);\n",
              "  const steps = outputElement.steps;\n",
              "\n",
              "  const next = steps.next(outputElement.lastPromiseValue);\n",
              "  return Promise.resolve(next.value.promise).then((value) => {\n",
              "    // Cache the last promise value to make it available to the next\n",
              "    // step of the generator.\n",
              "    outputElement.lastPromiseValue = value;\n",
              "    return next.value.response;\n",
              "  });\n",
              "}\n",
              "\n",
              "/**\n",
              " * Generator function which is called between each async step of the upload\n",
              " * process.\n",
              " * @param {string} inputId Element ID of the input file picker element.\n",
              " * @param {string} outputId Element ID of the output display.\n",
              " * @return {!Iterable<!Object>} Iterable of next steps.\n",
              " */\n",
              "function* uploadFilesStep(inputId, outputId) {\n",
              "  const inputElement = document.getElementById(inputId);\n",
              "  inputElement.disabled = false;\n",
              "\n",
              "  const outputElement = document.getElementById(outputId);\n",
              "  outputElement.innerHTML = '';\n",
              "\n",
              "  const pickedPromise = new Promise((resolve) => {\n",
              "    inputElement.addEventListener('change', (e) => {\n",
              "      resolve(e.target.files);\n",
              "    });\n",
              "  });\n",
              "\n",
              "  const cancel = document.createElement('button');\n",
              "  inputElement.parentElement.appendChild(cancel);\n",
              "  cancel.textContent = 'Cancel upload';\n",
              "  const cancelPromise = new Promise((resolve) => {\n",
              "    cancel.onclick = () => {\n",
              "      resolve(null);\n",
              "    };\n",
              "  });\n",
              "\n",
              "  // Wait for the user to pick the files.\n",
              "  const files = yield {\n",
              "    promise: Promise.race([pickedPromise, cancelPromise]),\n",
              "    response: {\n",
              "      action: 'starting',\n",
              "    }\n",
              "  };\n",
              "\n",
              "  cancel.remove();\n",
              "\n",
              "  // Disable the input element since further picks are not allowed.\n",
              "  inputElement.disabled = true;\n",
              "\n",
              "  if (!files) {\n",
              "    return {\n",
              "      response: {\n",
              "        action: 'complete',\n",
              "      }\n",
              "    };\n",
              "  }\n",
              "\n",
              "  for (const file of files) {\n",
              "    const li = document.createElement('li');\n",
              "    li.append(span(file.name, {fontWeight: 'bold'}));\n",
              "    li.append(span(\n",
              "        `(${file.type || 'n/a'}) - ${file.size} bytes, ` +\n",
              "        `last modified: ${\n",
              "            file.lastModifiedDate ? file.lastModifiedDate.toLocaleDateString() :\n",
              "                                    'n/a'} - `));\n",
              "    const percent = span('0% done');\n",
              "    li.appendChild(percent);\n",
              "\n",
              "    outputElement.appendChild(li);\n",
              "\n",
              "    const fileDataPromise = new Promise((resolve) => {\n",
              "      const reader = new FileReader();\n",
              "      reader.onload = (e) => {\n",
              "        resolve(e.target.result);\n",
              "      };\n",
              "      reader.readAsArrayBuffer(file);\n",
              "    });\n",
              "    // Wait for the data to be ready.\n",
              "    let fileData = yield {\n",
              "      promise: fileDataPromise,\n",
              "      response: {\n",
              "        action: 'continue',\n",
              "      }\n",
              "    };\n",
              "\n",
              "    // Use a chunked sending to avoid message size limits. See b/62115660.\n",
              "    let position = 0;\n",
              "    do {\n",
              "      const length = Math.min(fileData.byteLength - position, MAX_PAYLOAD_SIZE);\n",
              "      const chunk = new Uint8Array(fileData, position, length);\n",
              "      position += length;\n",
              "\n",
              "      const base64 = btoa(String.fromCharCode.apply(null, chunk));\n",
              "      yield {\n",
              "        response: {\n",
              "          action: 'append',\n",
              "          file: file.name,\n",
              "          data: base64,\n",
              "        },\n",
              "      };\n",
              "\n",
              "      let percentDone = fileData.byteLength === 0 ?\n",
              "          100 :\n",
              "          Math.round((position / fileData.byteLength) * 100);\n",
              "      percent.textContent = `${percentDone}% done`;\n",
              "\n",
              "    } while (position < fileData.byteLength);\n",
              "  }\n",
              "\n",
              "  // All done.\n",
              "  yield {\n",
              "    response: {\n",
              "      action: 'complete',\n",
              "    }\n",
              "  };\n",
              "}\n",
              "\n",
              "scope.google = scope.google || {};\n",
              "scope.google.colab = scope.google.colab || {};\n",
              "scope.google.colab._files = {\n",
              "  _uploadFiles,\n",
              "  _uploadFilesContinue,\n",
              "};\n",
              "})(self);\n",
              "</script> "
            ]
          },
          "metadata": {}
        },
        {
          "output_type": "stream",
          "name": "stdout",
          "text": [
            "Saving titanic.csv to titanic (8).csv\n"
          ]
        }
      ],
      "source": [
        "from google.colab import files\n",
        "\n",
        "uploaded = files.upload()"
      ]
    },
    {
      "cell_type": "code",
      "execution_count": 247,
      "metadata": {
        "id": "ABc9Xu0ieGYc",
        "colab": {
          "base_uri": "https://localhost:8080/",
          "height": 206
        },
        "outputId": "c6b00917-63be-4e18-9367-d8b319c682f7"
      },
      "outputs": [
        {
          "output_type": "execute_result",
          "data": {
            "text/plain": [
              "   PassengerId  Survived  Pclass  \\\n",
              "0            1         0       3   \n",
              "1            2         1       1   \n",
              "2            3         1       3   \n",
              "3            4         1       1   \n",
              "4            5         0       3   \n",
              "\n",
              "                                                Name     Sex   Age  SibSp  \\\n",
              "0                            Braund, Mr. Owen Harris    male  22.0      1   \n",
              "1  Cumings, Mrs. John Bradley (Florence Briggs Th...  female  38.0      1   \n",
              "2                             Heikkinen, Miss. Laina  female  26.0      0   \n",
              "3       Futrelle, Mrs. Jacques Heath (Lily May Peel)  female  35.0      1   \n",
              "4                           Allen, Mr. William Henry    male  35.0      0   \n",
              "\n",
              "   Parch            Ticket     Fare Cabin Embarked  \n",
              "0      0         A/5 21171   7.2500   NaN        S  \n",
              "1      0          PC 17599  71.2833   C85        C  \n",
              "2      0  STON/O2. 3101282   7.9250   NaN        S  \n",
              "3      0            113803  53.1000  C123        S  \n",
              "4      0            373450   8.0500   NaN        S  "
            ],
            "text/html": [
              "\n",
              "  <div id=\"df-06e4cd82-43d3-4f53-b2e1-165fdc0664cc\" class=\"colab-df-container\">\n",
              "    <div>\n",
              "<style scoped>\n",
              "    .dataframe tbody tr th:only-of-type {\n",
              "        vertical-align: middle;\n",
              "    }\n",
              "\n",
              "    .dataframe tbody tr th {\n",
              "        vertical-align: top;\n",
              "    }\n",
              "\n",
              "    .dataframe thead th {\n",
              "        text-align: right;\n",
              "    }\n",
              "</style>\n",
              "<table border=\"1\" class=\"dataframe\">\n",
              "  <thead>\n",
              "    <tr style=\"text-align: right;\">\n",
              "      <th></th>\n",
              "      <th>PassengerId</th>\n",
              "      <th>Survived</th>\n",
              "      <th>Pclass</th>\n",
              "      <th>Name</th>\n",
              "      <th>Sex</th>\n",
              "      <th>Age</th>\n",
              "      <th>SibSp</th>\n",
              "      <th>Parch</th>\n",
              "      <th>Ticket</th>\n",
              "      <th>Fare</th>\n",
              "      <th>Cabin</th>\n",
              "      <th>Embarked</th>\n",
              "    </tr>\n",
              "  </thead>\n",
              "  <tbody>\n",
              "    <tr>\n",
              "      <th>0</th>\n",
              "      <td>1</td>\n",
              "      <td>0</td>\n",
              "      <td>3</td>\n",
              "      <td>Braund, Mr. Owen Harris</td>\n",
              "      <td>male</td>\n",
              "      <td>22.0</td>\n",
              "      <td>1</td>\n",
              "      <td>0</td>\n",
              "      <td>A/5 21171</td>\n",
              "      <td>7.2500</td>\n",
              "      <td>NaN</td>\n",
              "      <td>S</td>\n",
              "    </tr>\n",
              "    <tr>\n",
              "      <th>1</th>\n",
              "      <td>2</td>\n",
              "      <td>1</td>\n",
              "      <td>1</td>\n",
              "      <td>Cumings, Mrs. John Bradley (Florence Briggs Th...</td>\n",
              "      <td>female</td>\n",
              "      <td>38.0</td>\n",
              "      <td>1</td>\n",
              "      <td>0</td>\n",
              "      <td>PC 17599</td>\n",
              "      <td>71.2833</td>\n",
              "      <td>C85</td>\n",
              "      <td>C</td>\n",
              "    </tr>\n",
              "    <tr>\n",
              "      <th>2</th>\n",
              "      <td>3</td>\n",
              "      <td>1</td>\n",
              "      <td>3</td>\n",
              "      <td>Heikkinen, Miss. Laina</td>\n",
              "      <td>female</td>\n",
              "      <td>26.0</td>\n",
              "      <td>0</td>\n",
              "      <td>0</td>\n",
              "      <td>STON/O2. 3101282</td>\n",
              "      <td>7.9250</td>\n",
              "      <td>NaN</td>\n",
              "      <td>S</td>\n",
              "    </tr>\n",
              "    <tr>\n",
              "      <th>3</th>\n",
              "      <td>4</td>\n",
              "      <td>1</td>\n",
              "      <td>1</td>\n",
              "      <td>Futrelle, Mrs. Jacques Heath (Lily May Peel)</td>\n",
              "      <td>female</td>\n",
              "      <td>35.0</td>\n",
              "      <td>1</td>\n",
              "      <td>0</td>\n",
              "      <td>113803</td>\n",
              "      <td>53.1000</td>\n",
              "      <td>C123</td>\n",
              "      <td>S</td>\n",
              "    </tr>\n",
              "    <tr>\n",
              "      <th>4</th>\n",
              "      <td>5</td>\n",
              "      <td>0</td>\n",
              "      <td>3</td>\n",
              "      <td>Allen, Mr. William Henry</td>\n",
              "      <td>male</td>\n",
              "      <td>35.0</td>\n",
              "      <td>0</td>\n",
              "      <td>0</td>\n",
              "      <td>373450</td>\n",
              "      <td>8.0500</td>\n",
              "      <td>NaN</td>\n",
              "      <td>S</td>\n",
              "    </tr>\n",
              "  </tbody>\n",
              "</table>\n",
              "</div>\n",
              "    <div class=\"colab-df-buttons\">\n",
              "\n",
              "  <div class=\"colab-df-container\">\n",
              "    <button class=\"colab-df-convert\" onclick=\"convertToInteractive('df-06e4cd82-43d3-4f53-b2e1-165fdc0664cc')\"\n",
              "            title=\"Convert this dataframe to an interactive table.\"\n",
              "            style=\"display:none;\">\n",
              "\n",
              "  <svg xmlns=\"http://www.w3.org/2000/svg\" height=\"24px\" viewBox=\"0 -960 960 960\">\n",
              "    <path d=\"M120-120v-720h720v720H120Zm60-500h600v-160H180v160Zm220 220h160v-160H400v160Zm0 220h160v-160H400v160ZM180-400h160v-160H180v160Zm440 0h160v-160H620v160ZM180-180h160v-160H180v160Zm440 0h160v-160H620v160Z\"/>\n",
              "  </svg>\n",
              "    </button>\n",
              "\n",
              "  <style>\n",
              "    .colab-df-container {\n",
              "      display:flex;\n",
              "      gap: 12px;\n",
              "    }\n",
              "\n",
              "    .colab-df-convert {\n",
              "      background-color: #E8F0FE;\n",
              "      border: none;\n",
              "      border-radius: 50%;\n",
              "      cursor: pointer;\n",
              "      display: none;\n",
              "      fill: #1967D2;\n",
              "      height: 32px;\n",
              "      padding: 0 0 0 0;\n",
              "      width: 32px;\n",
              "    }\n",
              "\n",
              "    .colab-df-convert:hover {\n",
              "      background-color: #E2EBFA;\n",
              "      box-shadow: 0px 1px 2px rgba(60, 64, 67, 0.3), 0px 1px 3px 1px rgba(60, 64, 67, 0.15);\n",
              "      fill: #174EA6;\n",
              "    }\n",
              "\n",
              "    .colab-df-buttons div {\n",
              "      margin-bottom: 4px;\n",
              "    }\n",
              "\n",
              "    [theme=dark] .colab-df-convert {\n",
              "      background-color: #3B4455;\n",
              "      fill: #D2E3FC;\n",
              "    }\n",
              "\n",
              "    [theme=dark] .colab-df-convert:hover {\n",
              "      background-color: #434B5C;\n",
              "      box-shadow: 0px 1px 3px 1px rgba(0, 0, 0, 0.15);\n",
              "      filter: drop-shadow(0px 1px 2px rgba(0, 0, 0, 0.3));\n",
              "      fill: #FFFFFF;\n",
              "    }\n",
              "  </style>\n",
              "\n",
              "    <script>\n",
              "      const buttonEl =\n",
              "        document.querySelector('#df-06e4cd82-43d3-4f53-b2e1-165fdc0664cc button.colab-df-convert');\n",
              "      buttonEl.style.display =\n",
              "        google.colab.kernel.accessAllowed ? 'block' : 'none';\n",
              "\n",
              "      async function convertToInteractive(key) {\n",
              "        const element = document.querySelector('#df-06e4cd82-43d3-4f53-b2e1-165fdc0664cc');\n",
              "        const dataTable =\n",
              "          await google.colab.kernel.invokeFunction('convertToInteractive',\n",
              "                                                    [key], {});\n",
              "        if (!dataTable) return;\n",
              "\n",
              "        const docLinkHtml = 'Like what you see? Visit the ' +\n",
              "          '<a target=\"_blank\" href=https://colab.research.google.com/notebooks/data_table.ipynb>data table notebook</a>'\n",
              "          + ' to learn more about interactive tables.';\n",
              "        element.innerHTML = '';\n",
              "        dataTable['output_type'] = 'display_data';\n",
              "        await google.colab.output.renderOutput(dataTable, element);\n",
              "        const docLink = document.createElement('div');\n",
              "        docLink.innerHTML = docLinkHtml;\n",
              "        element.appendChild(docLink);\n",
              "      }\n",
              "    </script>\n",
              "  </div>\n",
              "\n",
              "\n",
              "<div id=\"df-a522ae52-1e87-4835-8508-acb79c1868ab\">\n",
              "  <button class=\"colab-df-quickchart\" onclick=\"quickchart('df-a522ae52-1e87-4835-8508-acb79c1868ab')\"\n",
              "            title=\"Suggest charts\"\n",
              "            style=\"display:none;\">\n",
              "\n",
              "<svg xmlns=\"http://www.w3.org/2000/svg\" height=\"24px\"viewBox=\"0 0 24 24\"\n",
              "     width=\"24px\">\n",
              "    <g>\n",
              "        <path d=\"M19 3H5c-1.1 0-2 .9-2 2v14c0 1.1.9 2 2 2h14c1.1 0 2-.9 2-2V5c0-1.1-.9-2-2-2zM9 17H7v-7h2v7zm4 0h-2V7h2v10zm4 0h-2v-4h2v4z\"/>\n",
              "    </g>\n",
              "</svg>\n",
              "  </button>\n",
              "\n",
              "<style>\n",
              "  .colab-df-quickchart {\n",
              "      --bg-color: #E8F0FE;\n",
              "      --fill-color: #1967D2;\n",
              "      --hover-bg-color: #E2EBFA;\n",
              "      --hover-fill-color: #174EA6;\n",
              "      --disabled-fill-color: #AAA;\n",
              "      --disabled-bg-color: #DDD;\n",
              "  }\n",
              "\n",
              "  [theme=dark] .colab-df-quickchart {\n",
              "      --bg-color: #3B4455;\n",
              "      --fill-color: #D2E3FC;\n",
              "      --hover-bg-color: #434B5C;\n",
              "      --hover-fill-color: #FFFFFF;\n",
              "      --disabled-bg-color: #3B4455;\n",
              "      --disabled-fill-color: #666;\n",
              "  }\n",
              "\n",
              "  .colab-df-quickchart {\n",
              "    background-color: var(--bg-color);\n",
              "    border: none;\n",
              "    border-radius: 50%;\n",
              "    cursor: pointer;\n",
              "    display: none;\n",
              "    fill: var(--fill-color);\n",
              "    height: 32px;\n",
              "    padding: 0;\n",
              "    width: 32px;\n",
              "  }\n",
              "\n",
              "  .colab-df-quickchart:hover {\n",
              "    background-color: var(--hover-bg-color);\n",
              "    box-shadow: 0 1px 2px rgba(60, 64, 67, 0.3), 0 1px 3px 1px rgba(60, 64, 67, 0.15);\n",
              "    fill: var(--button-hover-fill-color);\n",
              "  }\n",
              "\n",
              "  .colab-df-quickchart-complete:disabled,\n",
              "  .colab-df-quickchart-complete:disabled:hover {\n",
              "    background-color: var(--disabled-bg-color);\n",
              "    fill: var(--disabled-fill-color);\n",
              "    box-shadow: none;\n",
              "  }\n",
              "\n",
              "  .colab-df-spinner {\n",
              "    border: 2px solid var(--fill-color);\n",
              "    border-color: transparent;\n",
              "    border-bottom-color: var(--fill-color);\n",
              "    animation:\n",
              "      spin 1s steps(1) infinite;\n",
              "  }\n",
              "\n",
              "  @keyframes spin {\n",
              "    0% {\n",
              "      border-color: transparent;\n",
              "      border-bottom-color: var(--fill-color);\n",
              "      border-left-color: var(--fill-color);\n",
              "    }\n",
              "    20% {\n",
              "      border-color: transparent;\n",
              "      border-left-color: var(--fill-color);\n",
              "      border-top-color: var(--fill-color);\n",
              "    }\n",
              "    30% {\n",
              "      border-color: transparent;\n",
              "      border-left-color: var(--fill-color);\n",
              "      border-top-color: var(--fill-color);\n",
              "      border-right-color: var(--fill-color);\n",
              "    }\n",
              "    40% {\n",
              "      border-color: transparent;\n",
              "      border-right-color: var(--fill-color);\n",
              "      border-top-color: var(--fill-color);\n",
              "    }\n",
              "    60% {\n",
              "      border-color: transparent;\n",
              "      border-right-color: var(--fill-color);\n",
              "    }\n",
              "    80% {\n",
              "      border-color: transparent;\n",
              "      border-right-color: var(--fill-color);\n",
              "      border-bottom-color: var(--fill-color);\n",
              "    }\n",
              "    90% {\n",
              "      border-color: transparent;\n",
              "      border-bottom-color: var(--fill-color);\n",
              "    }\n",
              "  }\n",
              "</style>\n",
              "\n",
              "  <script>\n",
              "    async function quickchart(key) {\n",
              "      const quickchartButtonEl =\n",
              "        document.querySelector('#' + key + ' button');\n",
              "      quickchartButtonEl.disabled = true;  // To prevent multiple clicks.\n",
              "      quickchartButtonEl.classList.add('colab-df-spinner');\n",
              "      try {\n",
              "        const charts = await google.colab.kernel.invokeFunction(\n",
              "            'suggestCharts', [key], {});\n",
              "      } catch (error) {\n",
              "        console.error('Error during call to suggestCharts:', error);\n",
              "      }\n",
              "      quickchartButtonEl.classList.remove('colab-df-spinner');\n",
              "      quickchartButtonEl.classList.add('colab-df-quickchart-complete');\n",
              "    }\n",
              "    (() => {\n",
              "      let quickchartButtonEl =\n",
              "        document.querySelector('#df-a522ae52-1e87-4835-8508-acb79c1868ab button');\n",
              "      quickchartButtonEl.style.display =\n",
              "        google.colab.kernel.accessAllowed ? 'block' : 'none';\n",
              "    })();\n",
              "  </script>\n",
              "</div>\n",
              "    </div>\n",
              "  </div>\n"
            ]
          },
          "metadata": {},
          "execution_count": 247
        }
      ],
      "source": [
        "data = pd.read_csv('titanic.csv')\n",
        "data.head()"
      ]
    },
    {
      "cell_type": "code",
      "execution_count": 248,
      "metadata": {
        "id": "jRqvaPoMf6kj",
        "colab": {
          "base_uri": "https://localhost:8080/"
        },
        "outputId": "8859f295-7024-4ce5-b13a-ae0b90db104a"
      },
      "outputs": [
        {
          "output_type": "stream",
          "name": "stdout",
          "text": [
            "number of missing values in the dataframe:\n",
            "PassengerId      0\n",
            "Survived         0\n",
            "Pclass           0\n",
            "Name             0\n",
            "Sex              0\n",
            "Age            177\n",
            "SibSp            0\n",
            "Parch            0\n",
            "Ticket           0\n",
            "Fare             0\n",
            "Cabin          687\n",
            "Embarked         2\n",
            "dtype: int64\n"
          ]
        }
      ],
      "source": [
        "print(\"number of missing values in the dataframe:\")\n",
        "print(data.isna().sum())"
      ]
    },
    {
      "cell_type": "code",
      "execution_count": 249,
      "metadata": {
        "id": "-w22pMIMhOjc",
        "colab": {
          "base_uri": "https://localhost:8080/"
        },
        "outputId": "717dd175-d8d1-4be8-c833-cc72070962f9"
      },
      "outputs": [
        {
          "output_type": "stream",
          "name": "stdout",
          "text": [
            "               mean\n",
            "Sex    Pclass      \n",
            "female 1       35.0\n",
            "       2       29.0\n",
            "       3       22.0\n",
            "male   1       41.0\n",
            "       2       31.0\n",
            "       3       27.0\n"
          ]
        }
      ],
      "source": [
        "print(round(data.groupby(['Sex', 'Pclass'])['Age'].agg(['mean']), 0))"
      ]
    },
    {
      "cell_type": "code",
      "execution_count": 250,
      "metadata": {
        "id": "v_pGphe-kpom"
      },
      "outputs": [],
      "source": [
        "data[\"Age\"] = data[\"Age\"].fillna(-1)\n",
        "\n",
        "\n",
        "for data_index in range(data.shape[0]):\n",
        "  if data[\"Age\"][data_index] == -1:\n",
        "    if ((data[\"Sex\"][data_index] == \"female\") and (data[\"Pclass\"][data_index] == 1)):\n",
        "      data[\"Age\"][data_index] = 35\n",
        "    elif((data[\"Sex\"][data_index] == \"female\") and (data[\"Pclass\"][data_index] == 2)):\n",
        "      data[\"Age\"][data_index] = 29\n",
        "    elif((data[\"Sex\"][data_index] == \"female\") and (data[\"Pclass\"][data_index] == 3)):\n",
        "      data[\"Age\"][data_index] = 22\n",
        "    elif((data[\"Sex\"][data_index] == \"male\") and (data[\"Pclass\"][data_index] == 1)):\n",
        "      data[\"Age\"][data_index] = 41\n",
        "    elif((data[\"Sex\"][data_index] == \"male\") and (data[\"Pclass\"][data_index] == 2)):\n",
        "      data[\"Age\"][data_index] = 31\n",
        "    elif((data[\"Sex\"][data_index] == \"male\") and (data[\"Pclass\"][data_index] == 3)):\n",
        "      data[\"Age\"][data_index] = 27"
      ]
    },
    {
      "cell_type": "code",
      "execution_count": 251,
      "metadata": {
        "id": "1s9oCcUpl_Zp",
        "colab": {
          "base_uri": "https://localhost:8080/"
        },
        "outputId": "3e7b8632-b2ba-407c-f39d-23363aaa6d80"
      },
      "outputs": [
        {
          "output_type": "stream",
          "name": "stdout",
          "text": [
            "Percentage of missing values in feature 'Age':  0\n"
          ]
        }
      ],
      "source": [
        "\n",
        "print(\"Percentage of missing values in feature 'Age': \", str((data[\"Age\"].isna().sum())))"
      ]
    },
    {
      "cell_type": "code",
      "execution_count": 252,
      "metadata": {
        "id": "-o3sQriRmOog",
        "colab": {
          "base_uri": "https://localhost:8080/"
        },
        "outputId": "50c8ebb1-46d2-4fec-a389-8985292d4a93"
      },
      "outputs": [
        {
          "output_type": "execute_result",
          "data": {
            "text/plain": [
              "Index(['PassengerId', 'Survived', 'Pclass', 'Name', 'Sex', 'Age', 'SibSp',\n",
              "       'Parch', 'Ticket', 'Fare', 'Embarked'],\n",
              "      dtype='object')"
            ]
          },
          "metadata": {},
          "execution_count": 252
        }
      ],
      "source": [
        "data = data.drop(columns = [\"Cabin\"])\n",
        "data.columns"
      ]
    },
    {
      "cell_type": "code",
      "execution_count": 253,
      "metadata": {
        "id": "Mh-nmCQDm_hl",
        "colab": {
          "base_uri": "https://localhost:8080/"
        },
        "outputId": "93ccb3aa-ff50-4eef-e56c-08b6b06ed469"
      },
      "outputs": [
        {
          "output_type": "execute_result",
          "data": {
            "text/plain": [
              "PassengerId    0\n",
              "Survived       0\n",
              "Pclass         0\n",
              "Name           0\n",
              "Sex            0\n",
              "Age            0\n",
              "SibSp          0\n",
              "Parch          0\n",
              "Ticket         0\n",
              "Fare           0\n",
              "Embarked       0\n",
              "dtype: int64"
            ]
          },
          "metadata": {},
          "execution_count": 253
        }
      ],
      "source": [
        "data.dropna(inplace = True)\n",
        "data.isna().sum()"
      ]
    },
    {
      "cell_type": "code",
      "execution_count": 254,
      "metadata": {
        "id": "wTIn0hS-8hhO"
      },
      "outputs": [],
      "source": [
        "#drop trivial features\n",
        "data.drop(columns=[\"PassengerId\", \"Name\", \"Ticket\"], inplace = True)\n"
      ]
    },
    {
      "cell_type": "code",
      "execution_count": 255,
      "metadata": {
        "id": "jArdNYa8Cwqv",
        "colab": {
          "base_uri": "https://localhost:8080/",
          "height": 749
        },
        "outputId": "0e06c4ab-fdb1-44fd-f97e-b54cd224c068"
      },
      "outputs": [
        {
          "output_type": "execute_result",
          "data": {
            "text/plain": [
              "<Axes: xlabel='Survived', ylabel='Fare'>"
            ]
          },
          "metadata": {},
          "execution_count": 255
        },
        {
          "output_type": "display_data",
          "data": {
            "text/plain": [
              "<Figure size 1250x750 with 3 Axes>"
            ],
            "image/png": "[encoded data removed]"
          },
          "metadata": {}
        }
      ],
      "source": [
        "#plotting data in boxplot method to check for outliners\n",
        "figure, axes = plt.subplots(2, 2, figsize = (12.5, 7.5))\n",
        "figure.suptitle(\"Outliers in Numerical Features\")\n",
        "figure.delaxes(axes[1][1])\n",
        "data['Survived'] = data['Survived'].astype(int)\n",
        "sns.boxplot(ax = axes[0, 0],  data = data, x = \"Survived\", y = \"Pclass\", palette = \"bwr\")\n",
        "sns.boxplot(ax = axes[0, 1],  data = data, x = \"Survived\", y = \"Age\", palette = \"bwr\")\n",
        "sns.boxplot(ax = axes[1, 0],  data = data, x = \"Survived\", y = \"Fare\", palette = \"bwr\")"
      ]
    },
    {
      "cell_type": "code",
      "execution_count": 256,
      "metadata": {
        "id": "hEgKZX_gFI3o",
        "colab": {
          "base_uri": "https://localhost:8080/"
        },
        "outputId": "3c662c69-f3cb-4d07-d783-46d89082387c"
      },
      "outputs": [
        {
          "output_type": "stream",
          "name": "stdout",
          "text": [
            "[3 1 2]\n",
            "['male' 'female']\n"
          ]
        }
      ],
      "source": [
        "print(data[\"Pclass\"].unique())\n",
        "print(data[\"Sex\"].unique())"
      ]
    },
    {
      "cell_type": "code",
      "execution_count": 257,
      "metadata": {
        "id": "rbc3M7fZZ1Sg",
        "colab": {
          "base_uri": "https://localhost:8080/"
        },
        "outputId": "eb85e243-de70-4166-fcfe-d3779cf8ff9d"
      },
      "outputs": [
        {
          "output_type": "execute_result",
          "data": {
            "text/plain": [
              "0      1\n",
              "1      0\n",
              "2      0\n",
              "3      0\n",
              "4      1\n",
              "      ..\n",
              "886    1\n",
              "887    0\n",
              "888    0\n",
              "889    1\n",
              "890    1\n",
              "Name: Sex, Length: 889, dtype: int64"
            ]
          },
          "metadata": {},
          "execution_count": 257
        }
      ],
      "source": [
        "#categorial encoding\n",
        "data[\"Sex\"].replace(\"female\", 0, inplace = True)\n",
        "data[\"Sex\"].replace(\"male\", 1, inplace = True)\n",
        "data.Sex"
      ]
    },
    {
      "cell_type": "code",
      "execution_count": 258,
      "metadata": {
        "id": "XPr3GWNmaTqs",
        "colab": {
          "base_uri": "https://localhost:8080/"
        },
        "outputId": "7fe6a0b1-dcdd-428f-b9a9-5feda2eafeae"
      },
      "outputs": [
        {
          "output_type": "execute_result",
          "data": {
            "text/plain": [
              "array(['S', 'C', 'Q'], dtype=object)"
            ]
          },
          "metadata": {},
          "execution_count": 258
        }
      ],
      "source": [
        "data[\"Embarked\"].unique()"
      ]
    },
    {
      "cell_type": "code",
      "execution_count": 259,
      "metadata": {
        "id": "Fiw_uVvLaw8r",
        "colab": {
          "base_uri": "https://localhost:8080/"
        },
        "outputId": "c9c44ad8-7cca-4aba-8e57-776ba5859bda"
      },
      "outputs": [
        {
          "output_type": "stream",
          "name": "stdout",
          "text": [
            "0    0\n",
            "1    1\n",
            "2    0\n",
            "3    0\n",
            "4    0\n",
            "Name: Embarked, dtype: int64\n"
          ]
        }
      ],
      "source": [
        "#encoding\n",
        "def encode_embarked(column):\n",
        "\n",
        "  for data in column:\n",
        "    if data == 'S':\n",
        "      column[column.index(data)] = 0\n",
        "    elif data == 'C':\n",
        "      column[column.index(data)] = 1\n",
        "    else:\n",
        "      column[column.index(data)] = 2\n",
        "\n",
        "  return column\n",
        "\n",
        "data[\"Embarked\"] = encode_embarked(list(data[\"Embarked\"]))\n",
        "print(data[\"Embarked\"][0:5])"
      ]
    },
    {
      "cell_type": "code",
      "execution_count": 260,
      "metadata": {
        "id": "fOr54JV4bn52",
        "colab": {
          "base_uri": "https://localhost:8080/",
          "height": 967
        },
        "outputId": "8b0ad28b-64a9-4e63-aa11-47a523883246"
      },
      "outputs": [
        {
          "output_type": "execute_result",
          "data": {
            "text/plain": [
              "<Axes: xlabel='Survived', ylabel='Embarked'>"
            ]
          },
          "metadata": {},
          "execution_count": 260
        },
        {
          "output_type": "display_data",
          "data": {
            "text/plain": [
              "<Figure size 1750x1000 with 5 Axes>"
            ],
            "image/png": "[encoded data removed]"
          },
          "metadata": {}
        }
      ],
      "source": [
        "#visualising data\n",
        "figure, axes = plt.subplots(2, 3, figsize = (17.5, 10))\n",
        "figure.delaxes(axes[1][2])\n",
        "figure.suptitle(\"Feature Target Dependence\")\n",
        "\n",
        "#island\n",
        "sns.stripplot(ax = axes[0, 0], data = data, x = \"Survived\", y = \"Pclass\", palette = \"bwr\")\n",
        "sns.stripplot(ax = axes[0, 1], data = data, x = \"Survived\", y = \"Sex\", palette = \"bwr\")\n",
        "sns.stripplot(ax = axes[0, 2], data = data, x = \"Survived\", y = \"Age\", palette = \"bwr\")\n",
        "sns.stripplot(ax = axes[1, 0], data = data, x = \"Survived\", y = \"Fare\", palette = \"bwr\")\n",
        "sns.stripplot(ax = axes[1, 1], data = data, x = \"Survived\", y = \"Embarked\", palette = \"bwr\")"
      ]
    },
    {
      "cell_type": "code",
      "execution_count": 261,
      "metadata": {
        "id": "jhJ0-BxEdIk5"
      },
      "outputs": [],
      "source": [
        "#split dataset\n",
        "X = data\n",
        "X_train, X_test = train_test_split(X, train_size = 0.8, random_state = 13)"
      ]
    },
    {
      "cell_type": "code",
      "source": [
        "X_train = X_train.reset_index(drop=True)\n",
        "X_test = X_test.reset_index(drop=True)\n"
      ],
      "metadata": {
        "id": "u78CpR9WOWBJ"
      },
      "execution_count": 262,
      "outputs": []
    },
    {
      "cell_type": "code",
      "source": [
        "X_train.head\n",
        "X_test.head\n"
      ],
      "metadata": {
        "colab": {
          "base_uri": "https://localhost:8080/"
        },
        "id": "iLpAwBtiJB0a",
        "outputId": "c949ef28-8572-48b7-b5b1-99d2897a890d"
      },
      "execution_count": 263,
      "outputs": [
        {
          "output_type": "execute_result",
          "data": {
            "text/plain": [
              "<bound method NDFrame.head of      Survived  Pclass  Sex   Age  SibSp  Parch     Fare  Embarked\n",
              "0           1       3    0  22.0      2      0  23.2500         2\n",
              "1           0       2    1  25.0      0      0  13.0000         0\n",
              "2           0       3    1  27.0      0      0   7.8958         0\n",
              "3           0       3    1  42.0      0      1   8.4042         0\n",
              "4           1       3    0  22.0      0      0   7.7500         2\n",
              "..        ...     ...  ...   ...    ...    ...      ...       ...\n",
              "173         1       3    1  27.0      0      0  56.4958         0\n",
              "174         0       3    1  30.5      0      0   8.0500         0\n",
              "175         1       2    0  31.0      1      1  26.2500         0\n",
              "176         0       3    1  27.0      0      0   7.2292         1\n",
              "177         0       3    1  27.0      0      0   8.0500         0\n",
              "\n",
              "[178 rows x 8 columns]>"
            ]
          },
          "metadata": {},
          "execution_count": 263
        }
      ]
    },
    {
      "cell_type": "code",
      "source": [
        "def div(x_data, fkey, fval):\n",
        "    x_right = x_data[x_data[fkey] >= fval]\n",
        "    x_left = x_data[x_data[fkey] < fval]\n",
        "    return x_right, x_left\n"
      ],
      "metadata": {
        "id": "aTzOioUTJnm3"
      },
      "execution_count": 264,
      "outputs": []
    },
    {
      "cell_type": "code",
      "source": [
        "def entropy(sub):\n",
        "   unique_sub, counts = np.unique(sub, return_counts=True)\n",
        "   prob = counts / len(sub)\n",
        "   entropy = -np.sum(prob * np.log2(prob))\n",
        "   return entropy\n",
        "\n",
        ""
      ],
      "metadata": {
        "id": "eq4LiBnx-322"
      },
      "execution_count": 265,
      "outputs": []
    },
    {
      "cell_type": "code",
      "source": [
        "def information_gain(x_data, fkey, fval):\n",
        "    right, left = div(x_data, fkey, fval)\n",
        "\n",
        "    l = len(left) / len(x_data)\n",
        "    r = len(right) / len(x_data)\n",
        "\n",
        "    if len(left) == 0 or len(right) == 0:\n",
        "        return -99999\n",
        "\n",
        "    i_gain = entropy(x_data['Survived']) - (l * entropy(left['Survived']) + r * entropy(right['Survived']))\n",
        "    return i_gain"
      ],
      "metadata": {
        "id": "Y6XYN6AIIZFN"
      },
      "execution_count": 266,
      "outputs": []
    },
    {
      "cell_type": "code",
      "source": [
        "class DecisionTree:\n",
        "    def __init__(self, depth=0, max_depth=5):\n",
        "        self.left = None\n",
        "        self.right = None\n",
        "        self.split_feature = None\n",
        "        self.split_value = None\n",
        "        self.depth = depth\n",
        "        self.max_depth = max_depth\n",
        "        self.target = None\n",
        "\n",
        "    def train(self, x_train):\n",
        "        features = ['Pclass', 'Sex', 'Age', 'SibSp', 'Parch', 'Embarked']\n",
        "        info_gains = [information_gain(x_train, feature, x_train[feature].mean()) for feature in features]\n",
        "\n",
        "        best_feature_index = np.argmax(info_gains)\n",
        "        self.split_feature = features[best_feature_index]\n",
        "        self.split_value = x_train[self.split_feature].mean()\n",
        "\n",
        "        print(\"Splitting Tree by\", self.split_feature)\n",
        "\n",
        "        data_right, data_left = div(x_train, self.split_feature, self.split_value)\n",
        "        data_right = data_right.reset_index(drop=True)\n",
        "        data_left = data_left.reset_index(drop=True)\n",
        "\n",
        "        if data_left.shape[0] == 0 or data_right.shape[0] == 0 or self.depth >= self.max_depth:\n",
        "            self.target = \"Positive\" if x_train.Survived.mean() >= 0.5 else \"Negative\"\n",
        "            return\n",
        "\n",
        "        self.left = DecisionTree(self.depth + 1, self.max_depth)\n",
        "        self.left.train(data_left)\n",
        "\n",
        "        self.right = DecisionTree(self.depth + 1, self.max_depth)\n",
        "        self.right.train(data_right)\n",
        "\n",
        "        self.target = \"Positive\" if x_train.Survived.mean() >= 0.5 else \"Negative\"\n",
        "\n",
        "    def infer(self, test):\n",
        "        if test[self.split_feature] > self.split_value:\n",
        "            if self.right is None:\n",
        "                return self.target\n",
        "            return self.right.infer(test)\n",
        "\n",
        "        if test[self.split_feature] < self.split_value:\n",
        "            if self.left is None:\n",
        "                return self.target\n",
        "            return self.left.infer(test)\n",
        "\n",
        "        # Handle the case when test[self.split_feature] is equal to self.split_value\n",
        "        return self.target"
      ],
      "metadata": {
        "id": "s0603z6AIbCX"
      },
      "execution_count": 267,
      "outputs": []
    },
    {
      "cell_type": "code",
      "source": [
        "dt = DecisionTree()"
      ],
      "metadata": {
        "id": "3C1-0nwfIrCS"
      },
      "execution_count": 268,
      "outputs": []
    },
    {
      "cell_type": "code",
      "source": [
        "dt.train(X_train)"
      ],
      "metadata": {
        "colab": {
          "base_uri": "https://localhost:8080/"
        },
        "id": "zN8N-JQNIzbL",
        "outputId": "1187d12e-825b-429c-bba8-741e5c62458d"
      },
      "execution_count": 269,
      "outputs": [
        {
          "output_type": "stream",
          "name": "stdout",
          "text": [
            "Splitting Tree by Sex\n",
            "Splitting Tree by Pclass\n",
            "Splitting Tree by Pclass\n",
            "Splitting Tree by Parch\n",
            "Splitting Tree by Age\n",
            "Splitting Tree by Age\n",
            "Splitting Tree by Age\n",
            "Splitting Tree by Parch\n",
            "Splitting Tree by Age\n",
            "Splitting Tree by Age\n",
            "Splitting Tree by Parch\n",
            "Splitting Tree by Embarked\n",
            "Splitting Tree by Age\n",
            "Splitting Tree by Age\n",
            "Splitting Tree by Age\n",
            "Splitting Tree by Age\n",
            "Splitting Tree by Age\n",
            "Splitting Tree by Embarked\n",
            "Splitting Tree by SibSp\n",
            "Splitting Tree by Age\n",
            "Splitting Tree by Age\n",
            "Splitting Tree by Age\n",
            "Splitting Tree by SibSp\n",
            "Splitting Tree by Age\n",
            "Splitting Tree by SibSp\n",
            "Splitting Tree by SibSp\n",
            "Splitting Tree by Parch\n",
            "Splitting Tree by Age\n",
            "Splitting Tree by Embarked\n",
            "Splitting Tree by SibSp\n",
            "Splitting Tree by Parch\n",
            "Splitting Tree by Age\n",
            "Splitting Tree by Parch\n",
            "Splitting Tree by Pclass\n",
            "Splitting Tree by Pclass\n",
            "Splitting Tree by Age\n",
            "Splitting Tree by Age\n",
            "Splitting Tree by Age\n",
            "Splitting Tree by SibSp\n",
            "Splitting Tree by Embarked\n",
            "Splitting Tree by Age\n",
            "Splitting Tree by SibSp\n",
            "Splitting Tree by Age\n",
            "Splitting Tree by Age\n",
            "Splitting Tree by Embarked\n",
            "Splitting Tree by Age\n",
            "Splitting Tree by SibSp\n",
            "Splitting Tree by SibSp\n",
            "Splitting Tree by SibSp\n",
            "Splitting Tree by Age\n",
            "Splitting Tree by Age\n",
            "Splitting Tree by Pclass\n",
            "Splitting Tree by SibSp\n",
            "Splitting Tree by Embarked\n",
            "Splitting Tree by Pclass\n",
            "Splitting Tree by Parch\n",
            "Splitting Tree by Pclass\n",
            "Splitting Tree by Age\n",
            "Splitting Tree by Pclass\n",
            "Splitting Tree by Pclass\n",
            "Splitting Tree by Parch\n",
            "Splitting Tree by Age\n",
            "Splitting Tree by Age\n"
          ]
        }
      ]
    },
    {
      "cell_type": "code",
      "source": [
        "y_pred_1 = []\n",
        "for ix in range(X_train.shape[0]):\n",
        "    y_pred_1.append(dt.infer(X_train.loc[ix]))\n",
        "\n",
        "y_pred_2 = []\n",
        "for ix in range(X_test.shape[0]):\n",
        "    y_pred_2.append(dt.infer(X_test.loc[ix]))"
      ],
      "metadata": {
        "id": "QP4qOfTVRB3p"
      },
      "execution_count": 270,
      "outputs": []
    },
    {
      "cell_type": "code",
      "source": [
        "for i in range(len(y_pred_1)):\n",
        "    if y_pred_1[i] == \"Negative\":\n",
        "        y_pred_1[i] = 0\n",
        "    else:\n",
        "        y_pred_1[i] = 1\n",
        "\n",
        "for i in range(len(y_pred_2)):\n",
        "    if y_pred_2[i] == \"Positive\":\n",
        "        y_pred_2[i] = 1\n",
        "    else:\n",
        "        y_pred_2[i] = 0"
      ],
      "metadata": {
        "id": "h9WM2hH2TjND"
      },
      "execution_count": 271,
      "outputs": []
    },
    {
      "cell_type": "code",
      "source": [
        "print('overall acc for train set : ',np.mean(y_pred_1 == X_train['Survived']))\n",
        "print('overall acc for test set : ',np.mean(y_pred_2 == X_test['Survived']))"
      ],
      "metadata": {
        "colab": {
          "base_uri": "https://localhost:8080/"
        },
        "id": "ReIIFI9ZTuOg",
        "outputId": "515a430a-05f5-44e1-d4d8-d436b57d289b"
      },
      "execution_count": 272,
      "outputs": [
        {
          "output_type": "stream",
          "name": "stdout",
          "text": [
            "overall acc for train set :  0.8382559774964838\n",
            "overall acc for test set :  0.7921348314606742\n"
          ]
        }
      ]
    },
    {
      "cell_type": "code",
      "source": [
        "def by_class_acc(accurate, predicted):\n",
        "    pred_0 = 0\n",
        "    pred_1 = 0\n",
        "    act_0 = 0\n",
        "    act_1 = 0\n",
        "    for i in range(accurate.shape[0]):\n",
        "        if accurate[i] == 0:\n",
        "            act_0 =act_0 + 1\n",
        "            if predicted[i] == 0:\n",
        "                pred_0 = pred_0 +1\n",
        "\n",
        "        if accurate[i] == 1:\n",
        "            act_1 =act_1 + 1\n",
        "            if predicted[i] == 1:\n",
        "                pred_1 = pred_1 +1\n",
        "\n",
        "    class_0_accuracy = pred_0/act_0*100\n",
        "    class_1_accuracy = pred_1/act_1*100\n",
        "    print(\"accuracy of predicting dead: \", class_0_accuracy, '%')\n",
        "    print(\"accuracy of predicting survived: \", class_1_accuracy, '%')\n",
        "by_class_acc(X_test['Survived'], y_pred_2)\n",
        "by_class_acc(X_train['Survived'], y_pred_1)"
      ],
      "metadata": {
        "colab": {
          "base_uri": "https://localhost:8080/"
        },
        "id": "kkmaMFdqPylE",
        "outputId": "92de0f93-ba3e-4833-b421-05a177039b74"
      },
      "execution_count": 273,
      "outputs": [
        {
          "output_type": "stream",
          "name": "stdout",
          "text": [
            "accuracy of predicting dead:  98.09523809523809 %\n",
            "accuracy of predicting survived:  52.054794520547944 %\n",
            "accuracy of predicting dead:  95.72072072072072 %\n",
            "accuracy of predicting survived:  64.04494382022472 %\n"
          ]
        }
      ]
    },
    {
      "cell_type": "code",
      "source": [
        "X_test.head()"
      ],
      "metadata": {
        "colab": {
          "base_uri": "https://localhost:8080/",
          "height": 206
        },
        "id": "z_6aKU6w_-t3",
        "outputId": "0366cb40-6f88-40f5-eefb-b250e9a59712"
      },
      "execution_count": 274,
      "outputs": [
        {
          "output_type": "execute_result",
          "data": {
            "text/plain": [
              "   Survived  Pclass  Sex   Age  SibSp  Parch     Fare  Embarked\n",
              "0         1       3    0  22.0      2      0  23.2500         2\n",
              "1         0       2    1  25.0      0      0  13.0000         0\n",
              "2         0       3    1  27.0      0      0   7.8958         0\n",
              "3         0       3    1  42.0      0      1   8.4042         0\n",
              "4         1       3    0  22.0      0      0   7.7500         2"
            ],
            "text/html": [
              "\n",
              "  <div id=\"df-16483f61-5ec5-4e45-9720-af2c965e24b8\" class=\"colab-df-container\">\n",
              "    <div>\n",
              "<style scoped>\n",
              "    .dataframe tbody tr th:only-of-type {\n",
              "        vertical-align: middle;\n",
              "    }\n",
              "\n",
              "    .dataframe tbody tr th {\n",
              "        vertical-align: top;\n",
              "    }\n",
              "\n",
              "    .dataframe thead th {\n",
              "        text-align: right;\n",
              "    }\n",
              "</style>\n",
              "<table border=\"1\" class=\"dataframe\">\n",
              "  <thead>\n",
              "    <tr style=\"text-align: right;\">\n",
              "      <th></th>\n",
              "      <th>Survived</th>\n",
              "      <th>Pclass</th>\n",
              "      <th>Sex</th>\n",
              "      <th>Age</th>\n",
              "      <th>SibSp</th>\n",
              "      <th>Parch</th>\n",
              "      <th>Fare</th>\n",
              "      <th>Embarked</th>\n",
              "    </tr>\n",
              "  </thead>\n",
              "  <tbody>\n",
              "    <tr>\n",
              "      <th>0</th>\n",
              "      <td>1</td>\n",
              "      <td>3</td>\n",
              "      <td>0</td>\n",
              "      <td>22.0</td>\n",
              "      <td>2</td>\n",
              "      <td>0</td>\n",
              "      <td>23.2500</td>\n",
              "      <td>2</td>\n",
              "    </tr>\n",
              "    <tr>\n",
              "      <th>1</th>\n",
              "      <td>0</td>\n",
              "      <td>2</td>\n",
              "      <td>1</td>\n",
              "      <td>25.0</td>\n",
              "      <td>0</td>\n",
              "      <td>0</td>\n",
              "      <td>13.0000</td>\n",
              "      <td>0</td>\n",
              "    </tr>\n",
              "    <tr>\n",
              "      <th>2</th>\n",
              "      <td>0</td>\n",
              "      <td>3</td>\n",
              "      <td>1</td>\n",
              "      <td>27.0</td>\n",
              "      <td>0</td>\n",
              "      <td>0</td>\n",
              "      <td>7.8958</td>\n",
              "      <td>0</td>\n",
              "    </tr>\n",
              "    <tr>\n",
              "      <th>3</th>\n",
              "      <td>0</td>\n",
              "      <td>3</td>\n",
              "      <td>1</td>\n",
              "      <td>42.0</td>\n",
              "      <td>0</td>\n",
              "      <td>1</td>\n",
              "      <td>8.4042</td>\n",
              "      <td>0</td>\n",
              "    </tr>\n",
              "    <tr>\n",
              "      <th>4</th>\n",
              "      <td>1</td>\n",
              "      <td>3</td>\n",
              "      <td>0</td>\n",
              "      <td>22.0</td>\n",
              "      <td>0</td>\n",
              "      <td>0</td>\n",
              "      <td>7.7500</td>\n",
              "      <td>2</td>\n",
              "    </tr>\n",
              "  </tbody>\n",
              "</table>\n",
              "</div>\n",
              "    <div class=\"colab-df-buttons\">\n",
              "\n",
              "  <div class=\"colab-df-container\">\n",
              "    <button class=\"colab-df-convert\" onclick=\"convertToInteractive('df-16483f61-5ec5-4e45-9720-af2c965e24b8')\"\n",
              "            title=\"Convert this dataframe to an interactive table.\"\n",
              "            style=\"display:none;\">\n",
              "\n",
              "  <svg xmlns=\"http://www.w3.org/2000/svg\" height=\"24px\" viewBox=\"0 -960 960 960\">\n",
              "    <path d=\"M120-120v-720h720v720H120Zm60-500h600v-160H180v160Zm220 220h160v-160H400v160Zm0 220h160v-160H400v160ZM180-400h160v-160H180v160Zm440 0h160v-160H620v160ZM180-180h160v-160H180v160Zm440 0h160v-160H620v160Z\"/>\n",
              "  </svg>\n",
              "    </button>\n",
              "\n",
              "  <style>\n",
              "    .colab-df-container {\n",
              "      display:flex;\n",
              "      gap: 12px;\n",
              "    }\n",
              "\n",
              "    .colab-df-convert {\n",
              "      background-color: #E8F0FE;\n",
              "      border: none;\n",
              "      border-radius: 50%;\n",
              "      cursor: pointer;\n",
              "      display: none;\n",
              "      fill: #1967D2;\n",
              "      height: 32px;\n",
              "      padding: 0 0 0 0;\n",
              "      width: 32px;\n",
              "    }\n",
              "\n",
              "    .colab-df-convert:hover {\n",
              "      background-color: #E2EBFA;\n",
              "      box-shadow: 0px 1px 2px rgba(60, 64, 67, 0.3), 0px 1px 3px 1px rgba(60, 64, 67, 0.15);\n",
              "      fill: #174EA6;\n",
              "    }\n",
              "\n",
              "    .colab-df-buttons div {\n",
              "      margin-bottom: 4px;\n",
              "    }\n",
              "\n",
              "    [theme=dark] .colab-df-convert {\n",
              "      background-color: #3B4455;\n",
              "      fill: #D2E3FC;\n",
              "    }\n",
              "\n",
              "    [theme=dark] .colab-df-convert:hover {\n",
              "      background-color: #434B5C;\n",
              "      box-shadow: 0px 1px 3px 1px rgba(0, 0, 0, 0.15);\n",
              "      filter: drop-shadow(0px 1px 2px rgba(0, 0, 0, 0.3));\n",
              "      fill: #FFFFFF;\n",
              "    }\n",
              "  </style>\n",
              "\n",
              "    <script>\n",
              "      const buttonEl =\n",
              "        document.querySelector('#df-16483f61-5ec5-4e45-9720-af2c965e24b8 button.colab-df-convert');\n",
              "      buttonEl.style.display =\n",
              "        google.colab.kernel.accessAllowed ? 'block' : 'none';\n",
              "\n",
              "      async function convertToInteractive(key) {\n",
              "        const element = document.querySelector('#df-16483f61-5ec5-4e45-9720-af2c965e24b8');\n",
              "        const dataTable =\n",
              "          await google.colab.kernel.invokeFunction('convertToInteractive',\n",
              "                                                    [key], {});\n",
              "        if (!dataTable) return;\n",
              "\n",
              "        const docLinkHtml = 'Like what you see? Visit the ' +\n",
              "          '<a target=\"_blank\" href=https://colab.research.google.com/notebooks/data_table.ipynb>data table notebook</a>'\n",
              "          + ' to learn more about interactive tables.';\n",
              "        element.innerHTML = '';\n",
              "        dataTable['output_type'] = 'display_data';\n",
              "        await google.colab.output.renderOutput(dataTable, element);\n",
              "        const docLink = document.createElement('div');\n",
              "        docLink.innerHTML = docLinkHtml;\n",
              "        element.appendChild(docLink);\n",
              "      }\n",
              "    </script>\n",
              "  </div>\n",
              "\n",
              "\n",
              "<div id=\"df-cfd8096c-8cd1-486a-a16f-bdbb21f54fd8\">\n",
              "  <button class=\"colab-df-quickchart\" onclick=\"quickchart('df-cfd8096c-8cd1-486a-a16f-bdbb21f54fd8')\"\n",
              "            title=\"Suggest charts\"\n",
              "            style=\"display:none;\">\n",
              "\n",
              "<svg xmlns=\"http://www.w3.org/2000/svg\" height=\"24px\"viewBox=\"0 0 24 24\"\n",
              "     width=\"24px\">\n",
              "    <g>\n",
              "        <path d=\"M19 3H5c-1.1 0-2 .9-2 2v14c0 1.1.9 2 2 2h14c1.1 0 2-.9 2-2V5c0-1.1-.9-2-2-2zM9 17H7v-7h2v7zm4 0h-2V7h2v10zm4 0h-2v-4h2v4z\"/>\n",
              "    </g>\n",
              "</svg>\n",
              "  </button>\n",
              "\n",
              "<style>\n",
              "  .colab-df-quickchart {\n",
              "      --bg-color: #E8F0FE;\n",
              "      --fill-color: #1967D2;\n",
              "      --hover-bg-color: #E2EBFA;\n",
              "      --hover-fill-color: #174EA6;\n",
              "      --disabled-fill-color: #AAA;\n",
              "      --disabled-bg-color: #DDD;\n",
              "  }\n",
              "\n",
              "  [theme=dark] .colab-df-quickchart {\n",
              "      --bg-color: #3B4455;\n",
              "      --fill-color: #D2E3FC;\n",
              "      --hover-bg-color: #434B5C;\n",
              "      --hover-fill-color: #FFFFFF;\n",
              "      --disabled-bg-color: #3B4455;\n",
              "      --disabled-fill-color: #666;\n",
              "  }\n",
              "\n",
              "  .colab-df-quickchart {\n",
              "    background-color: var(--bg-color);\n",
              "    border: none;\n",
              "    border-radius: 50%;\n",
              "    cursor: pointer;\n",
              "    display: none;\n",
              "    fill: var(--fill-color);\n",
              "    height: 32px;\n",
              "    padding: 0;\n",
              "    width: 32px;\n",
              "  }\n",
              "\n",
              "  .colab-df-quickchart:hover {\n",
              "    background-color: var(--hover-bg-color);\n",
              "    box-shadow: 0 1px 2px rgba(60, 64, 67, 0.3), 0 1px 3px 1px rgba(60, 64, 67, 0.15);\n",
              "    fill: var(--button-hover-fill-color);\n",
              "  }\n",
              "\n",
              "  .colab-df-quickchart-complete:disabled,\n",
              "  .colab-df-quickchart-complete:disabled:hover {\n",
              "    background-color: var(--disabled-bg-color);\n",
              "    fill: var(--disabled-fill-color);\n",
              "    box-shadow: none;\n",
              "  }\n",
              "\n",
              "  .colab-df-spinner {\n",
              "    border: 2px solid var(--fill-color);\n",
              "    border-color: transparent;\n",
              "    border-bottom-color: var(--fill-color);\n",
              "    animation:\n",
              "      spin 1s steps(1) infinite;\n",
              "  }\n",
              "\n",
              "  @keyframes spin {\n",
              "    0% {\n",
              "      border-color: transparent;\n",
              "      border-bottom-color: var(--fill-color);\n",
              "      border-left-color: var(--fill-color);\n",
              "    }\n",
              "    20% {\n",
              "      border-color: transparent;\n",
              "      border-left-color: var(--fill-color);\n",
              "      border-top-color: var(--fill-color);\n",
              "    }\n",
              "    30% {\n",
              "      border-color: transparent;\n",
              "      border-left-color: var(--fill-color);\n",
              "      border-top-color: var(--fill-color);\n",
              "      border-right-color: var(--fill-color);\n",
              "    }\n",
              "    40% {\n",
              "      border-color: transparent;\n",
              "      border-right-color: var(--fill-color);\n",
              "      border-top-color: var(--fill-color);\n",
              "    }\n",
              "    60% {\n",
              "      border-color: transparent;\n",
              "      border-right-color: var(--fill-color);\n",
              "    }\n",
              "    80% {\n",
              "      border-color: transparent;\n",
              "      border-right-color: var(--fill-color);\n",
              "      border-bottom-color: var(--fill-color);\n",
              "    }\n",
              "    90% {\n",
              "      border-color: transparent;\n",
              "      border-bottom-color: var(--fill-color);\n",
              "    }\n",
              "  }\n",
              "</style>\n",
              "\n",
              "  <script>\n",
              "    async function quickchart(key) {\n",
              "      const quickchartButtonEl =\n",
              "        document.querySelector('#' + key + ' button');\n",
              "      quickchartButtonEl.disabled = true;  // To prevent multiple clicks.\n",
              "      quickchartButtonEl.classList.add('colab-df-spinner');\n",
              "      try {\n",
              "        const charts = await google.colab.kernel.invokeFunction(\n",
              "            'suggestCharts', [key], {});\n",
              "      } catch (error) {\n",
              "        console.error('Error during call to suggestCharts:', error);\n",
              "      }\n",
              "      quickchartButtonEl.classList.remove('colab-df-spinner');\n",
              "      quickchartButtonEl.classList.add('colab-df-quickchart-complete');\n",
              "    }\n",
              "    (() => {\n",
              "      let quickchartButtonEl =\n",
              "        document.querySelector('#df-cfd8096c-8cd1-486a-a16f-bdbb21f54fd8 button');\n",
              "      quickchartButtonEl.style.display =\n",
              "        google.colab.kernel.accessAllowed ? 'block' : 'none';\n",
              "    })();\n",
              "  </script>\n",
              "</div>\n",
              "    </div>\n",
              "  </div>\n"
            ]
          },
          "metadata": {},
          "execution_count": 274
        }
      ]
    },
    {
      "cell_type": "code",
      "source": [
        "dt = DecisionTree(max_depth=5)\n",
        "\n",
        "# Train the decision tree on your training data (assuming X_train contains your features and y_train contains the labels)\n",
        "dt.train(X_train)\n",
        "\n",
        "# Make predictions on the test data\n",
        "predicted_labels = []\n",
        "for index, row in X_test.iterrows():\n",
        "    prediction = dt.infer(row)\n",
        "    predicted_labels.append(1 if prediction == \"Positive\" else 0)\n",
        "\n",
        "# Get the actual labels from the test data\n",
        "actual_labels = X_test['Survived'].values\n",
        "\n",
        "# Compute confusion matrix\n",
        "conf_matrix = confusion_matrix(actual_labels, predicted_labels)\n",
        "\n",
        "# Print or use the confusion matrix\n",
        "print(\"Confusion Matrix:\")\n",
        "print(conf_matrix)"
      ],
      "metadata": {
        "colab": {
          "base_uri": "https://localhost:8080/"
        },
        "id": "hzsVNesMAIVz",
        "outputId": "954a17bd-55a6-4b75-caa1-16390737cfd8"
      },
      "execution_count": 275,
      "outputs": [
        {
          "output_type": "stream",
          "name": "stdout",
          "text": [
            "Splitting Tree by Sex\n",
            "Splitting Tree by Pclass\n",
            "Splitting Tree by Pclass\n",
            "Splitting Tree by Parch\n",
            "Splitting Tree by Age\n",
            "Splitting Tree by Age\n",
            "Splitting Tree by Age\n",
            "Splitting Tree by Parch\n",
            "Splitting Tree by Age\n",
            "Splitting Tree by Age\n",
            "Splitting Tree by Parch\n",
            "Splitting Tree by Embarked\n",
            "Splitting Tree by Age\n",
            "Splitting Tree by Age\n",
            "Splitting Tree by Age\n",
            "Splitting Tree by Age\n",
            "Splitting Tree by Age\n",
            "Splitting Tree by Embarked\n",
            "Splitting Tree by SibSp\n",
            "Splitting Tree by Age\n",
            "Splitting Tree by Age\n",
            "Splitting Tree by Age\n",
            "Splitting Tree by SibSp\n",
            "Splitting Tree by Age\n",
            "Splitting Tree by SibSp\n",
            "Splitting Tree by SibSp\n",
            "Splitting Tree by Parch\n",
            "Splitting Tree by Age\n",
            "Splitting Tree by Embarked\n",
            "Splitting Tree by SibSp\n",
            "Splitting Tree by Parch\n",
            "Splitting Tree by Age\n",
            "Splitting Tree by Parch\n",
            "Splitting Tree by Pclass\n",
            "Splitting Tree by Pclass\n",
            "Splitting Tree by Age\n",
            "Splitting Tree by Age\n",
            "Splitting Tree by Age\n",
            "Splitting Tree by SibSp\n",
            "Splitting Tree by Embarked\n",
            "Splitting Tree by Age\n",
            "Splitting Tree by SibSp\n",
            "Splitting Tree by Age\n",
            "Splitting Tree by Age\n",
            "Splitting Tree by Embarked\n",
            "Splitting Tree by Age\n",
            "Splitting Tree by SibSp\n",
            "Splitting Tree by SibSp\n",
            "Splitting Tree by SibSp\n",
            "Splitting Tree by Age\n",
            "Splitting Tree by Age\n",
            "Splitting Tree by Pclass\n",
            "Splitting Tree by SibSp\n",
            "Splitting Tree by Embarked\n",
            "Splitting Tree by Pclass\n",
            "Splitting Tree by Parch\n",
            "Splitting Tree by Pclass\n",
            "Splitting Tree by Age\n",
            "Splitting Tree by Pclass\n",
            "Splitting Tree by Pclass\n",
            "Splitting Tree by Parch\n",
            "Splitting Tree by Age\n",
            "Splitting Tree by Age\n",
            "Confusion Matrix:\n",
            "[[103   2]\n",
            " [ 35  38]]\n"
          ]
        }
      ]
    },
    {
      "cell_type": "code",
      "source": [
        "from sklearn.metrics import precision_score, recall_score, f1_score\n",
        "\n",
        "precision = precision_score(actual_labels, predicted_labels)\n",
        "\n",
        "recall = recall_score(actual_labels, predicted_labels)\n",
        "\n",
        "f1 = f1_score(actual_labels, predicted_labels)\n",
        "\n",
        "print(\"Precision:\", precision)\n",
        "print(\"Recall:\", recall)\n",
        "print(\"F1-score:\", f1)"
      ],
      "metadata": {
        "colab": {
          "base_uri": "https://localhost:8080/"
        },
        "id": "xyIu7jq2EU7c",
        "outputId": "0c1bb212-1634-4420-a264-cff58a1a996e"
      },
      "execution_count": 276,
      "outputs": [
        {
          "output_type": "stream",
          "name": "stdout",
          "text": [
            "Precision: 0.95\n",
            "Recall: 0.5205479452054794\n",
            "F1-score: 0.6725663716814159\n"
          ]
        }
      ]
    }
  ],
  "metadata": {
    "colab": {
      "provenance": []
    },
    "kernelspec": {
      "display_name": "Python 3",
      "name": "python3"
    },
    "language_info": {
      "name": "python"
    }
  },
  "nbformat": 4,
  "nbformat_minor": 0
}